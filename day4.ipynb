{
 "cells": [
  {
   "cell_type": "code",
   "execution_count": 15,
   "metadata": {},
   "outputs": [
    {
     "name": "stdout",
     "output_type": "stream",
     "text": [
      "28538\n"
     ]
    }
   ],
   "source": [
    "lines = []\n",
    "with open('day4_input.txt') as f:\n",
    "    lines = f.readlines()\n",
    "\n",
    "sum = 0\n",
    "for line in lines:\n",
    "    line = line.strip()\n",
    "    card_id = line.split(':')[0].strip().split(' ')[1]\n",
    "    winning_numbers = line.split('|')[0].split(':')[1].strip().split(' ')\n",
    "    your_numbers = line.split('|')[1].strip().split(' ')\n",
    "    #print(card_id, winning_numbers, your_numbers)\n",
    "\n",
    "    i = 0\n",
    "    for number in your_numbers:\n",
    "        if number!= '':\n",
    "            if number in winning_numbers:\n",
    "                i += 1\n",
    "    #print(i)\n",
    "\n",
    "    if i > 0:\n",
    "        sum += 2**(i-1)\n",
    "\n",
    "print(sum) "
   ]
  },
  {
   "cell_type": "code",
   "execution_count": 23,
   "metadata": {},
   "outputs": [
    {
     "name": "stdout",
     "output_type": "stream",
     "text": [
      "{0: 0, 1: 0, 2: 0, 3: 0, 4: 0, 5: 0}\n",
      "card_id 0\n",
      "previous_card_count 0\n",
      "{0: 1, 1: 0, 2: 0, 3: 0, 4: 0, 5: 0}\n",
      "matches found 4\n",
      "card_id 1\n",
      "previous_card_count 0\n",
      "{0: 1, 1: 1, 2: 0, 3: 0, 4: 0, 5: 0}\n",
      "matches found 2\n",
      "card_id 2\n",
      "previous_card_count 0\n",
      "{0: 1, 1: 1, 2: 1, 3: 0, 4: 0, 5: 0}\n",
      "matches found 2\n",
      "card_id 3\n",
      "previous_card_count 0\n",
      "{0: 1, 1: 1, 2: 1, 3: 1, 4: 0, 5: 0}\n",
      "matches found 1\n",
      "card_id 4\n",
      "previous_card_count 0\n",
      "{0: 1, 1: 1, 2: 1, 3: 1, 4: 1, 5: 0}\n",
      "matches found 0\n",
      "card_id 5\n",
      "previous_card_count 0\n",
      "{0: 1, 1: 1, 2: 1, 3: 1, 4: 1, 5: 1}\n",
      "matches found 0\n",
      "{0: 1, 1: 1, 2: 1, 3: 1, 4: 1, 5: 1}\n"
     ]
    }
   ],
   "source": [
    "lines = []\n",
    "with open('day4_input.txt') as f:\n",
    "    lines = f.readlines()\n",
    "\n",
    "card_count = 0\n",
    "\n",
    "max_card_numbers = len(lines)\n",
    "card_count = {}\n",
    "for i in range(max_card_numbers):\n",
    "    card_count[i] = 0\n",
    "\n",
    "print(card_count)\n",
    "\n",
    "for line in lines:\n",
    "    line = line.strip()\n",
    "    card_id = int(line.split(':')[0].strip().split(' ')[1])\n",
    "    print(\"card_id\", card_id-1)\n",
    "    previous_card_count = card_count[card_id-1]\n",
    "    print(\"previous_card_count\", previous_card_count)\n",
    "    card_count[card_id-1] += 1\n",
    "    print(card_count)\n",
    "    winning_numbers = line.split('|')[0].split(':')[1].strip().split(' ')\n",
    "    your_numbers = line.split('|')[1].strip().split(' ')\n",
    "    #print(card_id, winning_numbers, your_numbers)\n",
    "    \n",
    "    i = 0\n",
    "    for number in your_numbers:\n",
    "        if number!= '':\n",
    "            if number in winning_numbers:\n",
    "                i += 1\n",
    "    print(\"matches found\", i)\n",
    "                \n",
    "    if i > 0:\n",
    "        j = 1\n",
    "        while j<=i:\n",
    "            if card_id+j < max_card_numbers:\n",
    "                card_count[card_id+j-1] += 1 + previous_card_count\n",
    "            j = j+1\n",
    "\n",
    "print(card_count)"
   ]
  }
 ],
 "metadata": {
  "kernelspec": {
   "display_name": "py",
   "language": "python",
   "name": "python3"
  },
  "language_info": {
   "codemirror_mode": {
    "name": "ipython",
    "version": 3
   },
   "file_extension": ".py",
   "mimetype": "text/x-python",
   "name": "python",
   "nbconvert_exporter": "python",
   "pygments_lexer": "ipython3",
   "version": "3.8.18"
  }
 },
 "nbformat": 4,
 "nbformat_minor": 2
}
